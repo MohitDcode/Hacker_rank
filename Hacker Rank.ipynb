{
 "cells": [
  {
   "cell_type": "markdown",
   "metadata": {},
   "source": [
    "# 1) The aVeryBigSum function"
   ]
  },
  {
   "cell_type": "code",
   "execution_count": 1,
   "metadata": {},
   "outputs": [
    {
     "name": "stdout",
     "output_type": "stream",
     "text": [
      "1000000001 1000000002 1000000003 1000000004 1000000005\n"
     ]
    }
   ],
   "source": [
    "ar = list(map(int, input().rstrip().split()))"
   ]
  },
  {
   "cell_type": "code",
   "execution_count": 3,
   "metadata": {},
   "outputs": [],
   "source": [
    "def aVeryBigSum(ar):\n",
    "    return (sum(ar))"
   ]
  },
  {
   "cell_type": "code",
   "execution_count": 4,
   "metadata": {},
   "outputs": [],
   "source": [
    "result = aVeryBigSum(ar)"
   ]
  },
  {
   "cell_type": "code",
   "execution_count": 5,
   "metadata": {},
   "outputs": [
    {
     "data": {
      "text/plain": [
       "5000000015"
      ]
     },
     "execution_count": 5,
     "metadata": {},
     "output_type": "execute_result"
    }
   ],
   "source": [
    "result"
   ]
  },
  {
   "cell_type": "markdown",
   "metadata": {},
   "source": [
    " "
   ]
  },
  {
   "cell_type": "markdown",
   "metadata": {},
   "source": [
    "# 2) ACM ICPC Team"
   ]
  },
  {
   "cell_type": "markdown",
   "metadata": {},
   "source": [
    "There are a number of people who will be attending ACM-ICPC World Finals. Each of them may be well versed in a number of topics. Given a list of topics known by each attendee, you must determine the maximum number of topics a 2-person team can know. Also find out how many ways a team can be formed to know that many topics. Lists will be in the form of bit strings, where each string represents an attendee and each position in that string represents a field of knowledge, 1 if its a known field or 0 if not."
   ]
  },
  {
   "cell_type": "markdown",
   "metadata": {},
   "source": [
    "Explanation"
   ]
  },
  {
   "cell_type": "markdown",
   "metadata": {},
   "source": [
    "The first line contains two integers, N and M, separated by a single space, where N represents the number of people, and M represents the number of topics. N lines follow. Each line contains a binary string of length M. If the ith line's jth character is 1, then the ith person knows the jth topic; otherwise, he doesn't know the topic."
   ]
  },
  {
   "cell_type": "code",
   "execution_count": 14,
   "metadata": {},
   "outputs": [
    {
     "name": "stdout",
     "output_type": "stream",
     "text": [
      "4 5\n"
     ]
    }
   ],
   "source": [
    "nm = input().split()"
   ]
  },
  {
   "cell_type": "code",
   "execution_count": 17,
   "metadata": {},
   "outputs": [],
   "source": [
    "n = int(nm[0])\n",
    "m = int(nm[1])"
   ]
  },
  {
   "cell_type": "code",
   "execution_count": 20,
   "metadata": {},
   "outputs": [
    {
     "name": "stdout",
     "output_type": "stream",
     "text": [
      "10101\n",
      "11100\n",
      "11010\n",
      "00101\n"
     ]
    }
   ],
   "source": [
    "topic = []\n",
    "\n",
    "for _ in range(n):\n",
    "    topic_item = input()\n",
    "    topic.append(topic_item)"
   ]
  },
  {
   "cell_type": "code",
   "execution_count": 21,
   "metadata": {},
   "outputs": [
    {
     "data": {
      "text/plain": [
       "['10101', '11100', '11010', '00101']"
      ]
     },
     "execution_count": 21,
     "metadata": {},
     "output_type": "execute_result"
    }
   ],
   "source": [
    "topic"
   ]
  },
  {
   "cell_type": "code",
   "execution_count": null,
   "metadata": {},
   "outputs": [],
   "source": [
    "result = acmTeam(topic)"
   ]
  },
  {
   "cell_type": "code",
   "execution_count": 68,
   "metadata": {},
   "outputs": [
    {
     "name": "stdout",
     "output_type": "stream",
     "text": [
      "['01011', '00100', '00111', '10111']\n",
      "pair is :  ('01011', '00100')\n",
      "fn item_value e1 =  01011\n",
      "value is :  4\n",
      "pair is :  ('01011', '00111')\n",
      "fn item_value e1 =  01011\n",
      "value is :  4\n",
      "pair is :  ('01011', '10111')\n",
      "fn item_value e1 =  01011\n",
      "value is :  5\n",
      "pair is :  ('00100', '00111')\n",
      "fn item_value e1 =  00100\n",
      "value is :  3\n",
      "pair is :  ('00100', '10111')\n",
      "fn item_value e1 =  00100\n",
      "value is :  4\n",
      "pair is :  ('00111', '10111')\n",
      "fn item_value e1 =  00111\n",
      "value is :  4\n",
      "5\n",
      "1\n",
      "0.003877878189086914\n"
     ]
    }
   ],
   "source": [
    "import random\n",
    "import itertools\n",
    "import time\n",
    "\n",
    "# n number of people\n",
    "# m number of topics\n",
    "\n",
    "n = 4\n",
    "m = 5\n",
    "\n",
    "\"\"\"\n",
    "binary_string(n) and random_list(n_people, n_topic) just help\n",
    "to generate test cases, irrelevant otherwise.\n",
    "\"\"\"\n",
    "\n",
    "def binary_string(n):\n",
    "    my_string = \"\".join(str(random.randint(0, 1)) for _ in range(n))\n",
    "    return my_string    \n",
    "\n",
    "def random_list(n_people, n_topic):\n",
    "    my_list = [binary_string(n_topic) for _ in range(n_people)]\n",
    "    return my_list    \n",
    "\n",
    "\"\"\"\n",
    "the essential part is item_value(e1, e2)\n",
    "and find_couples(comb_list)\n",
    "\"\"\"\n",
    "\n",
    "\n",
    "def item_value(e1, e2):\n",
    "    print(\"fn item_value e1 = \",e1)\n",
    "    c = bin(int(e1, 2) | int(e2, 2))\n",
    "    return c[2:].count('1')\n",
    "\n",
    "\n",
    "def find_couples(comb_list):\n",
    "    max_value = 0\n",
    "    counter = 0      \n",
    "\n",
    "    for pair in itertools.combinations(comb_list, 2):\n",
    "        print(\"pair is : \",pair)\n",
    "        value = item_value(pair[0], pair[1])\n",
    "        print(\"value is : \",value)\n",
    "        if value == max_value:\n",
    "            counter += 1\n",
    "        elif value > max_value:\n",
    "            max_value = value\n",
    "            counter = 1\n",
    "\n",
    "    print(max_value)\n",
    "    print(counter)\n",
    "    return    \n",
    "\n",
    "topic = random_list(n, m)\n",
    "\n",
    "print(topic)    \n",
    "\n",
    "start = time.time()\n",
    "find_couples(topic)\n",
    "end = time.time()\n",
    "print(end - start)"
   ]
  },
  {
   "cell_type": "code",
   "execution_count": 42,
   "metadata": {},
   "outputs": [],
   "source": [
    "def item_value1(e1, e2):\n",
    "    c = bin(int(e1, 2) | int(e2, 2))\n",
    "    return c[2:].count('1')"
   ]
  },
  {
   "cell_type": "code",
   "execution_count": 43,
   "metadata": {},
   "outputs": [],
   "source": [
    "def item_value2(e1, e2):\n",
    "    c = bin(int(e1, 2) | int(e2, 2))\n",
    "    return sum(int(i) for i in c[2:])"
   ]
  },
  {
   "cell_type": "code",
   "execution_count": 46,
   "metadata": {},
   "outputs": [],
   "source": [
    "e1 =  '11101'\n",
    "e2 =  '10011'"
   ]
  },
  {
   "cell_type": "code",
   "execution_count": 51,
   "metadata": {},
   "outputs": [
    {
     "data": {
      "text/plain": [
       "5"
      ]
     },
     "execution_count": 51,
     "metadata": {},
     "output_type": "execute_result"
    }
   ],
   "source": [
    "item_value1(e1, e2)"
   ]
  },
  {
   "cell_type": "code",
   "execution_count": 67,
   "metadata": {},
   "outputs": [
    {
     "name": "stdout",
     "output_type": "stream",
     "text": [
      "0b11111\n",
      "4\n"
     ]
    }
   ],
   "source": [
    "c = bin(int(e1, 2) | int(e2, 2))\n",
    "print(c)\n",
    "c = '0b11110'\n",
    "print(c[2:].count('1'))"
   ]
  },
  {
   "cell_type": "markdown",
   "metadata": {},
   "source": [
    "# 3) Alternating Characters"
   ]
  },
  {
   "cell_type": "markdown",
   "metadata": {},
   "source": [
    "Task is to find the minimum number of required deletions.\n",
    "\n",
    "For example, given the string s=AABAAB, remove an 'A' at positions 0 and 3 to make s=ABAB in 2 deletions."
   ]
  },
  {
   "cell_type": "code",
   "execution_count": 39,
   "metadata": {},
   "outputs": [],
   "source": [
    "def alternatingCharacters(s):\n",
    "    for _ in range(q):\n",
    "        delete_cnt = 0\n",
    "        for i in range(1,len(s)):\n",
    "            if s[i] == s[i-1]:\n",
    "                delete_cnt +=1\n",
    "    return(delete_cnt)"
   ]
  },
  {
   "cell_type": "code",
   "execution_count": 30,
   "metadata": {},
   "outputs": [
    {
     "name": "stdout",
     "output_type": "stream",
     "text": [
      "3\n",
      "AAABBBAABB\n",
      "AABBAABB\n",
      "ABABABAA\n"
     ]
    }
   ],
   "source": [
    "q = int(input())  # get how many test cases\n",
    "for q_itr in range(q):\n",
    "    s = input()   # get each test "
   ]
  },
  {
   "cell_type": "code",
   "execution_count": 40,
   "metadata": {},
   "outputs": [
    {
     "name": "stdout",
     "output_type": "stream",
     "text": [
      "4\n"
     ]
    }
   ],
   "source": [
    "print(alternatingCharacters(s))"
   ]
  },
  {
   "cell_type": "markdown",
   "metadata": {},
   "source": [
    "# 4) Anagram"
   ]
  },
  {
   "cell_type": "markdown",
   "metadata": {},
   "source": [
    "Two words are anagrams of one another if their letters can be rearranged to form the other word."
   ]
  },
  {
   "cell_type": "markdown",
   "metadata": {},
   "source": [
    "Test Case #01: aaabbb\n",
    "\n",
    "We split into two strings s1='aaa' and s2='bbb'. \n",
    "We have to replace all three characters from the first string with 'b' to make the strings anagrams."
   ]
  },
  {
   "cell_type": "code",
   "execution_count": 41,
   "metadata": {},
   "outputs": [],
   "source": [
    "def buildMap(s):\n",
    "    the_map = {}\n",
    "    for char in s:\n",
    "        if char not in the_map:\n",
    "            the_map[char] = 1\n",
    "        else:\n",
    "            the_map[char] +=1  \n",
    "    return(the_map)\n",
    "     \n",
    "def anagram(s):\n",
    "    if len(s)%2 == 1:\n",
    "        return -1\n",
    "         \n",
    "    mid = len(s)//2\n",
    "    s1 = s[:mid]\n",
    "    s2 = s[mid:]\n",
    "     \n",
    "    map1 = buildMap(s1)\n",
    "    map2 = buildMap(s2)\n",
    "     \n",
    "    diff_cnt = 0\n",
    "    for key in map2.keys():\n",
    "        if key not in map1:\n",
    "            diff_cnt += map2[key]\n",
    "        else:\n",
    "            diff_cnt += max(0, map2[key]-map1[key])\n",
    "     \n",
    "    return diff_cnt"
   ]
  },
  {
   "cell_type": "code",
   "execution_count": 50,
   "metadata": {},
   "outputs": [
    {
     "name": "stdout",
     "output_type": "stream",
     "text": [
      "1\n",
      "aujteqimwfkjoqodgqaxbrkrwykpmuimqtgulojjwtukjiqrasqejbvfbixnchzsahpnyayutsgecwvcqngzoehrmeeqlgknnb\n"
     ]
    }
   ],
   "source": [
    "q = int(input())  # get how many test cases\n",
    "for q_itr in range(q):\n",
    "    s = input()   # get each test "
   ]
  },
  {
   "cell_type": "code",
   "execution_count": 51,
   "metadata": {},
   "outputs": [
    {
     "name": "stdout",
     "output_type": "stream",
     "text": [
      "26\n"
     ]
    }
   ],
   "source": [
    "print(anagram(s))"
   ]
  },
  {
   "cell_type": "markdown",
   "metadata": {},
   "source": [
    "# 5) Angry Professor"
   ]
  },
  {
   "cell_type": "markdown",
   "metadata": {},
   "source": [
    "Function Description\n",
    "------------------------------\n",
    "\n",
    "Complete the angryProfessor function in the editor below. It must return YES if class is cancelled, or NO otherwise.\n",
    "\n",
    "angryProfessor has the following parameter(s):\n",
    "\n",
    "    k: the threshold number of students\n",
    "    a: an array of integers representing arrival times\n",
    "\n",
    "For example, there are n=6 students who arrive at times a=[-1,-1,0,0,1,1]. Four are there on time, and two arrive late. If there must be k=4 for class to go on, in this case the class will continue. If there must be k=5, then class is cancelled."
   ]
  },
  {
   "cell_type": "code",
   "execution_count": 1,
   "metadata": {},
   "outputs": [
    {
     "name": "stdout",
     "output_type": "stream",
     "text": [
      "1\n"
     ]
    }
   ],
   "source": [
    "#number of test cases\n",
    "t = int(input())"
   ]
  },
  {
   "cell_type": "code",
   "execution_count": 7,
   "metadata": {},
   "outputs": [
    {
     "name": "stdout",
     "output_type": "stream",
     "text": [
      "4 2\n",
      "0 -1 2 1\n",
      "No\n"
     ]
    }
   ],
   "source": [
    "for t_itr in range(t):\n",
    "        nk = input().split()\n",
    "        n = int(nk[0]) #number of students\n",
    "        k = int(nk[1]) #class threshold\n",
    "        \n",
    "        #arrival times\n",
    "        a = list(map(int, input().split()))\n",
    "\n",
    "        for x in a:\n",
    "            if x <= 0:\n",
    "                k -= 1\n",
    "        if k<=0:\n",
    "            print('No')\n",
    "        else:\n",
    "            print('Yes')"
   ]
  },
  {
   "cell_type": "markdown",
   "metadata": {},
   "source": [
    "# 6) Apple and Orange"
   ]
  },
  {
   "cell_type": "markdown",
   "metadata": {},
   "source": [
    "Function Description\n",
    "------------------------------\n",
    "Complete the countApplesAndOranges function in the editor below. It should print the number of apples and oranges that land on Sam's house, each on a separate line.\n",
    "\n",
    "countApplesAndOranges has the following parameter(s):\n",
    "\n",
    "    s: integer, starting point of Sam's house location.\n",
    "    t: integer, ending location of Sam's house location.\n",
    "    a: integer, location of the Apple tree.\n",
    "    b: integer, location of the Orange tree.\n",
    "    apples: integer array, distances at which each apple falls from the tree.\n",
    "    oranges: integer array, distances at which each orange falls from the tree."
   ]
  },
  {
   "cell_type": "code",
   "execution_count": 10,
   "metadata": {},
   "outputs": [
    {
     "name": "stdout",
     "output_type": "stream",
     "text": [
      "7 11\n",
      "5 15\n",
      "3 2\n",
      "-2 2 1\n",
      "5 -6\n"
     ]
    }
   ],
   "source": [
    "st = input().split()\n",
    "\n",
    "s = int(st[0])\n",
    "t = int(st[1])\n",
    "\n",
    "ab = input().split()\n",
    "\n",
    "a = int(ab[0])\n",
    "b = int(ab[1])\n",
    "\n",
    "mn = input().split()\n",
    "\n",
    "m = int(mn[0])\n",
    "n = int(mn[1])\n",
    "\n",
    "apples = list(map(int, input().split()))\n",
    "\n",
    "oranges = list(map(int, input().split()))"
   ]
  },
  {
   "cell_type": "code",
   "execution_count": 18,
   "metadata": {},
   "outputs": [],
   "source": [
    "def countApplesAndOranges(s, t, a, b, apples, oranges):\n",
    "    cnt_apple = 0\n",
    "    cnt_orange = 0\n",
    "    \n",
    "    for ele in apples:\n",
    "        if a+ele >= s and a+ele <= t:\n",
    "            cnt_apple +=1\n",
    "    print(cnt_apple)\n",
    "    \n",
    "    for ele in oranges:\n",
    "        if b+ele >= s and b+ele <= t:\n",
    "            cnt_orange +=1\n",
    "    print(cnt_orange)"
   ]
  },
  {
   "cell_type": "code",
   "execution_count": 19,
   "metadata": {},
   "outputs": [
    {
     "name": "stdout",
     "output_type": "stream",
     "text": [
      "1\n",
      "1\n"
     ]
    }
   ],
   "source": [
    "countApplesAndOranges(s, t, a, b, apples, oranges)"
   ]
  },
  {
   "cell_type": "markdown",
   "metadata": {},
   "source": [
    "# 7) Balanced Brackets"
   ]
  },
  {
   "cell_type": "markdown",
   "metadata": {},
   "source": [
    "Function Description\n",
    "------------------------------\n",
    "Complete the function isBalanced in the editor below. It must return a string: YES if the sequence is balanced or NO if it is not. "
   ]
  },
  {
   "cell_type": "code",
   "execution_count": 1,
   "metadata": {},
   "outputs": [],
   "source": [
    "def isValidPair(left, right):\n",
    "    if left == '(' and right == ')':\n",
    "        return True\n",
    "    if left == '[' and right == ']':\n",
    "        return True\n",
    "    if left == '{' and right == '}':\n",
    "        return True  \n",
    "    return False\n",
    "  \n",
    "def isProperlyNested(S):\n",
    "    stack = []\n",
    "      \n",
    "    for symbol in S:\n",
    "        if symbol == '[' or symbol == '{' or symbol == '(':\n",
    "            stack.append(symbol)\n",
    "        else:\n",
    "            if len(stack) == 0:\n",
    "                return False\n",
    "            last = stack.pop()\n",
    "            if not isValidPair(last, symbol):\n",
    "                return False\n",
    "      \n",
    "    if len(stack) != 0:\n",
    "        return False\n",
    "              \n",
    "    return True"
   ]
  },
  {
   "cell_type": "code",
   "execution_count": 7,
   "metadata": {},
   "outputs": [
    {
     "name": "stdout",
     "output_type": "stream",
     "text": [
      "3\n",
      "{[()]}\n",
      "YES\n",
      "{[(])}\n",
      "NO\n",
      "{{[[(())]]}}\n",
      "YES\n"
     ]
    }
   ],
   "source": [
    "t = int(input())\n",
    "\n",
    "for t_itr in range(t):\n",
    "    s = input()\n",
    "    if isProperlyNested(s):\n",
    "        print(\"YES\")\n",
    "    else:\n",
    "        print(\"NO\")"
   ]
  },
  {
   "cell_type": "markdown",
   "metadata": {},
   "source": [
    "# 8) Bigger is Greater"
   ]
  },
  {
   "cell_type": "markdown",
   "metadata": {},
   "source": [
    "Function Description\n",
    "------------------------------\n",
    "Lexicographical order is often known as alphabetical order when dealing with strings. A string is greater than another string if it comes later in a lexicographically sorted list.\n",
    "\n",
    "Given a word, create a new word by swapping some or all of its characters. This new word must meet two criteria:\n",
    "\n",
    "    It must be greater than the original word\n",
    "    It must be the smallest word that meets the first condition\n",
    "\n",
    "For example, given the word w=abcd, the next largest word is abdc.  "
   ]
  },
  {
   "cell_type": "code",
   "execution_count": 1,
   "metadata": {},
   "outputs": [],
   "source": [
    "def next_permutation(arr):\n",
    "    # Find non-increasing suffix\n",
    "    i = len(arr) - 1\n",
    "    while i > 0 and arr[i - 1] >= arr[i]:\n",
    "        i -= 1\n",
    "    if i <= 0:\n",
    "        return False\n",
    "     \n",
    "    # Find successor to pivot\n",
    "    j = len(arr) - 1\n",
    "    while arr[j] <= arr[i - 1]:\n",
    "        j -= 1\n",
    "    arr[i - 1], arr[j] = arr[j], arr[i - 1]\n",
    "     \n",
    "    # Reverse suffix\n",
    "    arr[i : ] = arr[len(arr) - 1 : i - 1 : -1]\n",
    "    return True"
   ]
  },
  {
   "cell_type": "code",
   "execution_count": 10,
   "metadata": {},
   "outputs": [
    {
     "name": "stdout",
     "output_type": "stream",
     "text": [
      "1\n",
      "dhck\n",
      "dhkc\n"
     ]
    }
   ],
   "source": [
    "def main():\n",
    "    t = int(input())\n",
    "    for _ in range(t):\n",
    "        s = list(input())\n",
    "        \n",
    "        \n",
    "    if next_permutation(s):\n",
    "        print(\"\".join(s))\n",
    "    else:\n",
    "        print(\"no answer\")\n",
    "     \n",
    "    \n",
    "if __name__ == '__main__':\n",
    "    main()"
   ]
  },
  {
   "cell_type": "code",
   "execution_count": null,
   "metadata": {},
   "outputs": [],
   "source": []
  }
 ],
 "metadata": {
  "kernelspec": {
   "display_name": "Python 3",
   "language": "python",
   "name": "python3"
  },
  "language_info": {
   "codemirror_mode": {
    "name": "ipython",
    "version": 3
   },
   "file_extension": ".py",
   "mimetype": "text/x-python",
   "name": "python",
   "nbconvert_exporter": "python",
   "pygments_lexer": "ipython3",
   "version": "3.7.1"
  }
 },
 "nbformat": 4,
 "nbformat_minor": 2
}
